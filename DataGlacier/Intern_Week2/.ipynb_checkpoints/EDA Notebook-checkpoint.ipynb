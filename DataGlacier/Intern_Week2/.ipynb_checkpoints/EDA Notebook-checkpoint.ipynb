{
 "cells": [
  {
   "cell_type": "code",
   "execution_count": null,
   "id": "8efd8443",
   "metadata": {},
   "outputs": [],
   "source": [
    "import pandas as pd\n",
    "import datetime\n",
    "\n",
    "cab_data = pd.read_csv(\"Cab_data.csv\")\n",
    "earliest_date = min(cab_data[\"Date of Travel\"])\n",
    "lastest_date = max(cab_data[\"Date of Travel\"])\n",
    "difference = lastest_date - earliest_date\n",
    "\n",
    "minimum = datetime.date(2016, 1, 31)\n",
    "maximum = datetime.date(2018, 12, 31)\n",
    "difference2 = maximum = minimum\n",
    "\n",
    "print(difference, \"\\n\", difference2)"
   ]
  },
  {
   "cell_type": "code",
   "execution_count": null,
   "id": "966eca8c",
   "metadata": {},
   "outputs": [],
   "source": [
    "import pandas as pd\n",
    "import datetime\n",
    "\n",
    "cab_data = pd.read_csv(\"Cab_data.csv\")\n",
    "cab_data.columns=cab_data.columns.str.replace(\" \",\"-\")\n",
    "cab_data.columns=cab_data.columns.str.lower()\n",
    "min_date = cab_data[\"date_of_travel\"].min()\n",
    "\n",
    "#base_date = cab_date.fromordinal(datetime(2016,1,31).tooridinal()-min_date)\n",
    "#print(\"Minimum date of data: \", min_date)\n",
    "#print(\"The base date of data: \", base_date)"
   ]
  },
  {
   "cell_type": "code",
   "execution_count": null,
   "id": "3765102e",
   "metadata": {},
   "outputs": [],
   "source": [
    "def convert_date(X):\n",
    "    to_strp=date.fromordinal(base_date.tooridinal()+X).strftime(\"%d-%m-%Y\")\n",
    "    return datetime.strptime(to_strp,\"%d-%m-%Y\")"
   ]
  },
  {
   "cell_type": "code",
   "execution_count": null,
   "id": "892cf9c0",
   "metadata": {},
   "outputs": [],
   "source": [
    "cab_data[\"Date of Travel\"]=cab_data[\"Date of Travel\"].apply(convert_date)\n",
    "cab_data"
   ]
  },
  {
   "cell_type": "code",
   "execution_count": null,
   "id": "d1d1b77f",
   "metadata": {},
   "outputs": [],
   "source": []
  }
 ],
 "metadata": {
  "kernelspec": {
   "display_name": "Anaconda (base)",
   "language": "python",
   "name": "anaconda-base"
  },
  "language_info": {
   "codemirror_mode": {
    "name": "ipython",
    "version": 3
   },
   "file_extension": ".py",
   "mimetype": "text/x-python",
   "name": "python",
   "nbconvert_exporter": "python",
   "pygments_lexer": "ipython3",
   "version": "3.9.12"
  }
 },
 "nbformat": 4,
 "nbformat_minor": 5
}
