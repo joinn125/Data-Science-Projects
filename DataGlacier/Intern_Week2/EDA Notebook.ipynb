{
 "cells": [
  {
   "cell_type": "code",
   "execution_count": 7,
   "id": "8efd8443",
   "metadata": {},
   "outputs": [
    {
     "name": "stdout",
     "output_type": "stream",
     "text": [
      "1094 \n",
      " 2016-01-31\n"
     ]
    }
   ],
   "source": [
    "import pandas as pd\n",
    "import datetime\n",
    "\n",
    "cab_data = pd.read_csv(\"Cab_data.csv\")\n",
    "earliest_date = min(cab_data[\"Date of Travel\"])\n",
    "lastest_date = max(cab_data[\"Date of Travel\"])\n",
    "difference = lastest_date - earliest_date\n",
    "\n",
    "minimum = datetime.date(2016, 1, 31)\n",
    "maximum = datetime.date(2018, 12, 31)\n",
    "difference2 = maximum = minimum\n",
    "\n",
    "print(difference, \"\\n\", difference2)"
   ]
  },
  {
   "cell_type": "markdown",
   "id": "7e42d76e",
   "metadata": {},
   "source": [
    "### G2M insight for Cab Investment Firm ###\n"
   ]
  },
  {
   "cell_type": "markdown",
   "id": "44683d56",
   "metadata": {},
   "source": [
    "### Setting up date format ###"
   ]
  },
  {
   "cell_type": "code",
   "execution_count": 3,
   "id": "d1d1b77f",
   "metadata": {},
   "outputs": [
    {
     "data": {
      "text/plain": [
       "0   2016-02-06\n",
       "1   2016-02-04\n",
       "2   2016-01-31\n",
       "3   2016-02-05\n",
       "4   2016-02-01\n",
       "Name: date_of_travel, dtype: datetime64[ns]"
      ]
     },
     "execution_count": 3,
     "metadata": {},
     "output_type": "execute_result"
    }
   ],
   "source": [
    "from datetime import datetime\n",
    "from datetime import date\n",
    "import numpy as np\n",
    "import pandas as pd\n",
    "pd.set_option('display.max_columns', None)\n",
    "\n",
    "cab_data=pd.read_csv(\"Cab_Data.csv\")\n",
    "cab_data.columns=cab_data.columns.str.replace(\" \",\"_\")\n",
    "cab_data.columns=cab_data.columns.str.lower()\n",
    "min_date=cab_data[\"date_of_travel\"].min()\n",
    "base_date=date.fromordinal(datetime(2016,1,31).toordinal()-min_date)\n",
    "\n",
    "def convert_date_time(X):\n",
    "    to_strp=date.fromordinal(base_date.toordinal()+X).strftime(\"%d-%m-%Y\")\n",
    "    return datetime.strptime(to_strp,\"%d-%m-%Y\")\n",
    "\n",
    "cab_data[\"date_of_travel\"]=cab_data[\"date_of_travel\"].apply(convert_date_time)\n",
    "cab_data.date_of_travel.head()"
   ]
  },
  {
   "cell_type": "code",
   "execution_count": null,
   "id": "37071139",
   "metadata": {},
   "outputs": [],
   "source": []
  }
 ],
 "metadata": {
  "kernelspec": {
   "display_name": "Python 3 (ipykernel)",
   "language": "python",
   "name": "python3"
  },
  "language_info": {
   "codemirror_mode": {
    "name": "ipython",
    "version": 3
   },
   "file_extension": ".py",
   "mimetype": "text/x-python",
   "name": "python",
   "nbconvert_exporter": "python",
   "pygments_lexer": "ipython3",
   "version": "3.9.6"
  },
  "vscode": {
   "interpreter": {
    "hash": "df4cc2d2d7031c06e5af2d74f1408527fe6cf0d9b15fb047b359efd4c7a628c4"
   }
  }
 },
 "nbformat": 4,
 "nbformat_minor": 5
}
